{
  "cells": [
    {
      "cell_type": "markdown",
      "metadata": {
        "id": "K91rk6Hc5D_z"
      },
      "source": [
        "#   Bibliotecas utilizadas"
      ]
    },
    {
      "cell_type": "code",
      "execution_count": 228,
      "metadata": {
        "id": "hZV9vmcg4knw"
      },
      "outputs": [],
      "source": [
        "import numpy as np\n",
        "from numpy import random as rnd\n",
        "import copy\n",
        "from matplotlib import pyplot as plt\n",
        "from scipy import optimize as opt\n",
        "import os\n"
      ]
    },
    {
      "cell_type": "markdown",
      "metadata": {
        "id": "4o3dD4xF53Gw"
      },
      "source": [
        "# Constantes"
      ]
    },
    {
      "cell_type": "code",
      "execution_count": 229,
      "metadata": {
        "id": "zps9TpyV54pN"
      },
      "outputs": [],
      "source": [
        "njobs = 25\n",
        "nmachines = 3\n",
        "maxtime = 100\n",
        "nvariables = njobs + nmachines - 1\n",
        "files = {\n",
        "    'problemData': './datasets/problemdata.npz',\n",
        "    'multiObjective': './datasets/multi-objective.npz',\n",
        "    'makespanOptimization': './datasets/makespan-optimization.npz',\n",
        "    'sumOptimization': './datasets/sum-optimization.npz',\n",
        "}"
      ]
    },
    {
      "cell_type": "markdown",
      "metadata": {
        "id": "mEVQlO4C5LIy"
      },
      "source": [
        "# Geração aletória dos parâmetros do problema"
      ]
    },
    {
      "cell_type": "code",
      "execution_count": 230,
      "metadata": {
        "id": "O5oPgAN_46dL"
      },
      "outputs": [
        {
          "name": "stdout",
          "output_type": "stream",
          "text": [
            "ENTROU NO IF\n"
          ]
        },
        {
          "ename": "FileNotFoundError",
          "evalue": "[Errno 2] No such file or directory: './datasets/problemdata.npz'",
          "output_type": "error",
          "traceback": [
            "\u001b[0;31m---------------------------------------------------------------------------\u001b[0m",
            "\u001b[0;31mFileNotFoundError\u001b[0m                         Traceback (most recent call last)",
            "Cell \u001b[0;32mIn[230], line 10\u001b[0m\n\u001b[1;32m      6\u001b[0m setup \u001b[39m=\u001b[39m np\u001b[39m.\u001b[39mround(maxtime\u001b[39m*\u001b[39mrnd\u001b[39m.\u001b[39mrand(njobs, njobs, nmachines))\n\u001b[1;32m      7\u001b[0m duedate \u001b[39m=\u001b[39m np\u001b[39m.\u001b[39mround(\u001b[39m5\u001b[39m\u001b[39m*\u001b[39mmaxtime\u001b[39m*\u001b[39mrnd\u001b[39m.\u001b[39mrand(njobs))\n\u001b[0;32m---> 10\u001b[0m np\u001b[39m.\u001b[39;49msavez_compressed(files[\u001b[39m'\u001b[39;49m\u001b[39mproblemData\u001b[39;49m\u001b[39m'\u001b[39;49m],\n\u001b[1;32m     11\u001b[0m                 njobs\u001b[39m=\u001b[39;49mnjobs,\n\u001b[1;32m     12\u001b[0m                 nmachines\u001b[39m=\u001b[39;49mnmachines,\n\u001b[1;32m     13\u001b[0m                 maxtime\u001b[39m=\u001b[39;49mmaxtime,\n\u001b[1;32m     14\u001b[0m                 nvariables\u001b[39m=\u001b[39;49mnvariables,\n\u001b[1;32m     15\u001b[0m                 processing\u001b[39m=\u001b[39;49mprocessing,\n\u001b[1;32m     16\u001b[0m                 setup\u001b[39m=\u001b[39;49msetup,\n\u001b[1;32m     17\u001b[0m                 duedate\u001b[39m=\u001b[39;49mduedate)\n",
            "File \u001b[0;32m<__array_function__ internals>:180\u001b[0m, in \u001b[0;36msavez_compressed\u001b[0;34m(*args, **kwargs)\u001b[0m\n",
            "File \u001b[0;32m~/.local/lib/python3.8/site-packages/numpy/lib/npyio.py:686\u001b[0m, in \u001b[0;36msavez_compressed\u001b[0;34m(file, *args, **kwds)\u001b[0m\n\u001b[1;32m    623\u001b[0m \u001b[39m@array_function_dispatch\u001b[39m(_savez_compressed_dispatcher)\n\u001b[1;32m    624\u001b[0m \u001b[39mdef\u001b[39;00m \u001b[39msavez_compressed\u001b[39m(file, \u001b[39m*\u001b[39margs, \u001b[39m*\u001b[39m\u001b[39m*\u001b[39mkwds):\n\u001b[1;32m    625\u001b[0m     \u001b[39m\"\"\"\u001b[39;00m\n\u001b[1;32m    626\u001b[0m \u001b[39m    Save several arrays into a single file in compressed ``.npz`` format.\u001b[39;00m\n\u001b[1;32m    627\u001b[0m \n\u001b[0;32m   (...)\u001b[0m\n\u001b[1;32m    684\u001b[0m \n\u001b[1;32m    685\u001b[0m \u001b[39m    \"\"\"\u001b[39;00m\n\u001b[0;32m--> 686\u001b[0m     _savez(file, args, kwds, \u001b[39mTrue\u001b[39;49;00m)\n",
            "File \u001b[0;32m~/.local/lib/python3.8/site-packages/numpy/lib/npyio.py:712\u001b[0m, in \u001b[0;36m_savez\u001b[0;34m(file, args, kwds, compress, allow_pickle, pickle_kwargs)\u001b[0m\n\u001b[1;32m    709\u001b[0m \u001b[39melse\u001b[39;00m:\n\u001b[1;32m    710\u001b[0m     compression \u001b[39m=\u001b[39m zipfile\u001b[39m.\u001b[39mZIP_STORED\n\u001b[0;32m--> 712\u001b[0m zipf \u001b[39m=\u001b[39m zipfile_factory(file, mode\u001b[39m=\u001b[39;49m\u001b[39m\"\u001b[39;49m\u001b[39mw\u001b[39;49m\u001b[39m\"\u001b[39;49m, compression\u001b[39m=\u001b[39;49mcompression)\n\u001b[1;32m    714\u001b[0m \u001b[39mfor\u001b[39;00m key, val \u001b[39min\u001b[39;00m namedict\u001b[39m.\u001b[39mitems():\n\u001b[1;32m    715\u001b[0m     fname \u001b[39m=\u001b[39m key \u001b[39m+\u001b[39m \u001b[39m'\u001b[39m\u001b[39m.npy\u001b[39m\u001b[39m'\u001b[39m\n",
            "File \u001b[0;32m~/.local/lib/python3.8/site-packages/numpy/lib/npyio.py:103\u001b[0m, in \u001b[0;36mzipfile_factory\u001b[0;34m(file, *args, **kwargs)\u001b[0m\n\u001b[1;32m    101\u001b[0m \u001b[39mimport\u001b[39;00m \u001b[39mzipfile\u001b[39;00m\n\u001b[1;32m    102\u001b[0m kwargs[\u001b[39m'\u001b[39m\u001b[39mallowZip64\u001b[39m\u001b[39m'\u001b[39m] \u001b[39m=\u001b[39m \u001b[39mTrue\u001b[39;00m\n\u001b[0;32m--> 103\u001b[0m \u001b[39mreturn\u001b[39;00m zipfile\u001b[39m.\u001b[39;49mZipFile(file, \u001b[39m*\u001b[39;49margs, \u001b[39m*\u001b[39;49m\u001b[39m*\u001b[39;49mkwargs)\n",
            "File \u001b[0;32m/usr/lib/python3.8/zipfile.py:1251\u001b[0m, in \u001b[0;36mZipFile.__init__\u001b[0;34m(self, file, mode, compression, allowZip64, compresslevel, strict_timestamps)\u001b[0m\n\u001b[1;32m   1249\u001b[0m \u001b[39mwhile\u001b[39;00m \u001b[39mTrue\u001b[39;00m:\n\u001b[1;32m   1250\u001b[0m     \u001b[39mtry\u001b[39;00m:\n\u001b[0;32m-> 1251\u001b[0m         \u001b[39mself\u001b[39m\u001b[39m.\u001b[39mfp \u001b[39m=\u001b[39m io\u001b[39m.\u001b[39;49mopen(file, filemode)\n\u001b[1;32m   1252\u001b[0m     \u001b[39mexcept\u001b[39;00m \u001b[39mOSError\u001b[39;00m:\n\u001b[1;32m   1253\u001b[0m         \u001b[39mif\u001b[39;00m filemode \u001b[39min\u001b[39;00m modeDict:\n",
            "\u001b[0;31mFileNotFoundError\u001b[0m: [Errno 2] No such file or directory: './datasets/problemdata.npz'"
          ]
        }
      ],
      "source": [
        "fileExists = os.path.exists(files['problemData'])\n",
        "if(not fileExists):\n",
        "    # load variables\n",
        "    processing = np.round(maxtime*rnd.rand(njobs, nmachines))\n",
        "    setup = np.round(maxtime*rnd.rand(njobs, njobs, nmachines))\n",
        "    duedate = np.round(5*maxtime*rnd.rand(njobs))\n",
        "\n",
        "    \n",
        "    np.savez_compressed(files['problemData'],\n",
        "                    njobs=njobs,\n",
        "                    nmachines=nmachines,\n",
        "                    maxtime=maxtime,\n",
        "                    nvariables=nvariables,\n",
        "                    processing=processing,\n",
        "                    setup=setup,\n",
        "                    duedate=duedate)\n"
      ]
    },
    {
      "cell_type": "code",
      "execution_count": null,
      "metadata": {
        "id": "eJvc5wY-uax3"
      },
      "outputs": [],
      "source": [
        "from google.colab import drive\n",
        "drive.mount('/content/drive')"
      ]
    },
    {
      "cell_type": "markdown",
      "metadata": {
        "id": "nvQb63Z06BiQ"
      },
      "source": [
        "# Carrega os parâmetros do problema"
      ]
    },
    {
      "cell_type": "code",
      "execution_count": null,
      "metadata": {
        "id": "9LQM_0LnV4ta"
      },
      "outputs": [],
      "source": [
        "problemData = np.load(files['problemData'])\n",
        "processing = problemData['processing']\n",
        "setup = problemData['setup']\n",
        "duedate = problemData['duedate']"
      ]
    },
    {
      "cell_type": "code",
      "execution_count": null,
      "metadata": {
        "id": "kVvx9rm_B4c8"
      },
      "outputs": [],
      "source": [
        "# Definição da classe que vai carregar os dados do problema\\n\",\n",
        "class ProblemData:\n",
        "   def __init__(self, filename):\n",
        "     data = np.load(filename)\n",
        "     self.njobs = int(data['njobs'])\n",
        "     self.nmachines = int(data['nmachines'])\n",
        "     self.processing = data['processing']\n",
        "     self.setup = data['setup']\n",
        "     self.duedate = data['duedate']\n",
        "     self.n = int(data['nvariables'])\n",
        "    \n",
        "# Carrega os dados a partir do arquivo gerado pelo script gendata.py\\n\",\n",
        "probdata = ProblemData(files['problemData'])\n"
      ]
    },
    {
      "cell_type": "markdown",
      "metadata": {
        "id": "33lCKGZZ5qTn"
      },
      "source": [
        "\n",
        "\n",
        "*   Classe com as variáveis de decisão do problema\n",
        "\n"
      ]
    },
    {
      "cell_type": "code",
      "execution_count": null,
      "metadata": {
        "id": "93whW_DOeBt2"
      },
      "outputs": [],
      "source": [
        "class Solution:\n",
        "    def __init__(self):\n",
        "            \n",
        "            # A solução do problema vai estar representada por um vetor\\n\",\n",
        "            # no qual é composto pelos índices das tarefas e por -1,\\n\",\n",
        "            # sendo que os valores -1 significam separação entre as tarefas\\n\",\n",
        "            # de uma máquina para outra. Por exemplo, sejam 10 tarefas\\n\",\n",
        "            # e 3 máquinas. Um vetor solução pode ser: [3, 1, 2, -1, \\n\",\n",
        "            # 6, 5, 4, 7, -1, 8, 10, 9]. Assim, a máquina 1 realizará\\n\",\n",
        "            # a sequência 3-1-2, a máquina 2 realizará 6-5-4-7 e a \\n\",\n",
        "            # máquina 3 realizará 8-10-9\\n\",\n",
        "           self.solution = None\n",
        "            \n",
        "            # Aqui ficará salvo a avaliação da solução na função objetivo\\n\",\n",
        "            # considerada.\\n\",\n",
        "           self.single_objective_value = None\n",
        "           \n",
        "    \n",
        "    # Gerando uma solução aleatoriamente\\n\",\n",
        "x0 = Solution() # Cria o objeto\\n\",\n",
        "x0.solution = np.zeros(probdata.n, dtype=int) # Enche de zeros\\n\",\n",
        "for i in range(probdata.n):\n",
        "  x0.solution[i] = -1\n",
        "x0.solution[:probdata.njobs] = np.arange(probdata.njobs, dtype=int) # Coloca os índices nas primeiras posições\\n\",\n",
        "x0.solution = rnd.permutation(x0.solution) # Mistura aleatoriamente os elementos do vetor\\n\",\n",
        "\n"
      ]
    },
    {
      "cell_type": "markdown",
      "metadata": {
        "id": "q5q4dj3u59oA"
      },
      "source": [
        "\n",
        "\n",
        "*   Retorna valor da Soma dos Avanços e Atrasos \n",
        "\n",
        "\n"
      ]
    },
    {
      "cell_type": "code",
      "execution_count": null,
      "metadata": {
        "id": "QBxYIK3bzvv6"
      },
      "outputs": [],
      "source": [
        "def sum_earliness_tardiness(x,approachinfo,probdata):\n",
        "    \n",
        "    N = probdata.njobs # número de tarefas\n",
        "    M = probdata.nmachines # número de máquinas\n",
        "    y = np.copy(x.solution)\n",
        "    \n",
        "    indexes = np.where(y == -1)[0]\n",
        "    scheduling = [y[0:indexes[0]]]\n",
        "    for i in range(indexes.size-1):\n",
        "          scheduling.append(y[indexes[i]+1:indexes[i+1]])\n",
        "    scheduling.append(y[indexes[-1]+1:])\n",
        "    C = np.zeros(N)\n",
        "    for m in range(M):\n",
        "        time = 0.\n",
        "        last_job = -1\n",
        "        for n in range(scheduling[m].size):\n",
        "            time += probdata.processing[scheduling[m][n], m]\n",
        "            if last_job == -1:\n",
        "                last_job = scheduling[m][n]\n",
        "            else:\n",
        "                time += probdata.setup[last_job, scheduling[m][n], m]\n",
        "                last_job = scheduling[m][n]\n",
        "            C[scheduling[m][n]] = time\n",
        "                   \n",
        "    T = np.zeros(N)\n",
        "    E = np.zeros(N)\n",
        "    for n in range(N):\n",
        "        T[n] = max([C[n]-probdata.duedate[n], 0.])\n",
        "        E[n] = max([probdata.duedate[n]-C[n], 0.])\n",
        "    \n",
        "    x.single_objective_value = np.sum(T) + np.sum(E)\n",
        "    return x"
      ]
    },
    {
      "cell_type": "markdown",
      "metadata": {
        "id": "5e6P_aAf6QGZ"
      },
      "source": [
        "*   Retorna valor do Makespan"
      ]
    },
    {
      "cell_type": "code",
      "execution_count": null,
      "metadata": {
        "id": "t9BKYIJQ5HCt"
      },
      "outputs": [],
      "source": [
        "def makespan(x,approachinfo,probdata):\n",
        "    \n",
        "    N = probdata.njobs # número de tarefas\n",
        "    M = probdata.nmachines # número de máquinas\n",
        "    y = np.copy(x.solution)\n",
        "    \n",
        "    indexes = np.where(y == -1)[0]\n",
        "    scheduling = [y[0:indexes[0]]]\n",
        "    for i in range(indexes.size-1):\n",
        "          scheduling.append(y[indexes[i]+1:indexes[i+1]])\n",
        "    scheduling.append(y[indexes[-1]+1:])\n",
        "    makespan = np.zeros(M)\n",
        "    for m in range(M):\n",
        "        time = 0.\n",
        "        last_job = -1\n",
        "        for n in range(scheduling[m].size):\n",
        "            time += probdata.processing[scheduling[m][n], m]\n",
        "            if last_job == -1:\n",
        "                last_job = scheduling[m][n]\n",
        "            else:\n",
        "                time += probdata.setup[last_job, scheduling[m][n], m]\n",
        "                last_job = scheduling[m][n]\n",
        "        makespan[m] = time\n",
        "    \n",
        "    x.single_objective_value = max(makespan)\n",
        "    return x"
      ]
    },
    {
      "cell_type": "markdown",
      "metadata": {
        "id": "XpP967iF6b_V"
      },
      "source": [
        "# Metaheuristica para resolver o problema mono-objetivo (Algoritmo VNS)"
      ]
    },
    {
      "cell_type": "code",
      "execution_count": null,
      "metadata": {
        "id": "AhE-7Atc5PIs"
      },
      "outputs": [],
      "source": [
        "def rvns_approach(fobj,x,probdata,approachinfo,op,maxeval=1000):\n",
        "    \n",
        "    # lista de soluções\n",
        "    solutions = []\n",
        "    solutions_graph = []\n",
        "    # Contador do número de soluções candidatas avaliadas\n",
        "    num_sol_avaliadas = 0\n",
        "\n",
        "    # Máximo número de soluções candidatas avaliadas\n",
        "    max_num_sol_avaliadas = maxeval\n",
        "\n",
        "    # Número de estruturas de vizinhanças definidas\n",
        "    kmax = 3\n",
        "       \n",
        "    # Avalia solução inicial\n",
        "    x = fobj(x,approachinfo,probdata)\n",
        "    num_sol_avaliadas += 1\n",
        "    \n",
        "    \n",
        "    # Ciclo iterativo do método\n",
        "    while num_sol_avaliadas < max_num_sol_avaliadas:\n",
        "        \n",
        "        k = 1\n",
        "        while k <= kmax:\n",
        "\n",
        "            # Gera uma solução candidata na k-ésima vizinhança de x          \n",
        "            y = shake(x,k,probdata)\n",
        "            y = fobj(y,approachinfo,probdata)\n",
        "            num_sol_avaliadas += 1\n",
        "            solutions.append(y)\n",
        "            # Atualiza solução corrente e estrutura de vizinhança (se necessário)\n",
        "            x, k = neighborhoodChange(x, y, k, op,solutions_graph )\n",
        "    \n",
        "    return x, solutions, solutions_graph"
      ]
    },
    {
      "cell_type": "code",
      "execution_count": null,
      "metadata": {
        "id": "oJVrI5UK5MdT"
      },
      "outputs": [],
      "source": [
        "def neighborhoodChange(x,y,k,op,solutions_graph ):\n",
        "    \n",
        "    # op = 1 minimização, op = 2 maximização\n",
        "\n",
        "    if op == 1:\n",
        "      if y.single_objective_value < x.single_objective_value:\n",
        "          x = copy.deepcopy(y)\n",
        "          k = 1\n",
        "          solutions_graph.append(x.single_objective_value) \n",
        "      else:\n",
        "          solutions_graph.append(x.single_objective_value) \n",
        "          k += 1\n",
        "\n",
        "    if op == 2:\n",
        "      if y.single_objective_value > x.single_objective_value:\n",
        "          x = copy.deepcopy(y)\n",
        "          k = 1\n",
        "      else:\n",
        "          k += 1\n",
        "        \n",
        "    return x, k"
      ]
    },
    {
      "cell_type": "code",
      "execution_count": null,
      "metadata": {
        "id": "r3iM1xTh5I9r"
      },
      "outputs": [],
      "source": [
        "def shake(x,k,probdata):\n",
        "    \n",
        "    y = copy.deepcopy(x)\n",
        "    r = np.random.permutation(probdata.n)       \n",
        "    \n",
        "    if k == 1:             # exchange one pair of elements\n",
        "        aux = y.solution[r[0]]\n",
        "        y.solution[r[0]] = y.solution[r[1]]\n",
        "        y.solution[r[1]] = aux\n",
        "        \n",
        "    elif k == 2:           # exchange two pairs of elements      \n",
        "        aux = y.solution[r[0]]\n",
        "        y.solution[r[0]] = y.solution[r[1]]\n",
        "        y.solution[r[1]] = aux\n",
        "        aux = y.solution[r[2]]\n",
        "        y.solution[r[2]] = y.solution[r[3]]\n",
        "        y.solution[r[3]] = aux\n",
        "        \n",
        "    elif k == 3:           # exchange three pairs of elements   \n",
        "        aux = y.solution[r[0]]\n",
        "        y.solution[r[0]] = y.solution[r[1]]\n",
        "        y.solution[r[1]] = aux\n",
        "        aux = y.solution[r[2]]\n",
        "        y.solution[r[2]] = y.solution[r[3]]\n",
        "        y.solution[r[3]] = aux\n",
        "        aux = y.solution[r[4]]\n",
        "        y.solution[r[4]] = y.solution[r[5]]\n",
        "        y.solution[r[5]] = aux   \n",
        "    \n",
        "    return y\n",
        "\n"
      ]
    },
    {
      "cell_type": "markdown",
      "metadata": {
        "id": "tn4MIa8GHEfU"
      },
      "source": [
        "# Problema Mono-Objetivo: Soma de atrasos e adiantamentos"
      ]
    },
    {
      "cell_type": "code",
      "execution_count": null,
      "metadata": {
        "colab": {
          "base_uri": "https://localhost:8080/"
        },
        "id": "SuBtQqJff3Gi",
        "outputId": "f0bd13d5-c0cf-4ac6-ba1f-c7ee3dbae774"
      },
      "outputs": [
        {
          "name": "stdout",
          "output_type": "stream",
          "text": [
            "Soma dos Avanços e Atrasos\n",
            "Solução utópica:  [23 19 16  3 22 10 14 21  1  0 24 -1 13 12 15 20  9  4  7  2  5 -1  8 17\n",
            "  6 11 18]\n",
            "Soma dos Avanços e Atrasos utópico:  926\n"
          ]
        }
      ],
      "source": [
        "maxeval = 100000\n",
        "\n",
        "def optimizeSumExec():\n",
        "  # Encontra melhor solução para Soma Avanços Atrasos ,\n",
        "  bestf1, _, solutions_graph1 = rvns_approach(sum_earliness_tardiness,\n",
        "                                  x0,\n",
        "                                  probdata,\n",
        "                                  None,\n",
        "                                  1,\n",
        "                                  maxeval=maxeval)\n",
        "\n",
        "  bestf1.solution=np.insert(bestf1.solution,0,bestf1.single_objective_value)\n",
        "  np.savez_compressed(files['sumOptimization'], f1Solution=bestf1.solution)\n",
        "    \n",
        "\n",
        "fileExists = os.path.exists(files['sumOptimization'])\n",
        "if(not fileExists):\n",
        "  optimizeSumExec()\n",
        "\n",
        "f1Solution = np.load(files['sumOptimization'])['f1Solution']\n",
        "bestf1 = Solution()\n",
        "bestf1.single_objective_value = f1Solution[0]\n",
        "bestf1.solution = f1Solution[1:]\n",
        "\n",
        "# Mostra informações\n",
        "print(\"Soma dos Avanços e Atrasos\")\n",
        "print(\"Solução utópica: \", bestf1.solution)                                \n",
        "print(\"Soma dos Avanços e Atrasos utópico: \",bestf1.single_objective_value)\n"
      ]
    },
    {
      "cell_type": "markdown",
      "metadata": {
        "id": "BG_uqIE1eEFo"
      },
      "source": [
        "# Problema Mono-Objetivo: Makespan"
      ]
    },
    {
      "cell_type": "code",
      "execution_count": null,
      "metadata": {
        "colab": {
          "base_uri": "https://localhost:8080/"
        },
        "id": "uink5y1JFCjG",
        "outputId": "abb503b7-f7c7-4235-f26d-9ffa34b3c3cd"
      },
      "outputs": [
        {
          "name": "stdout",
          "output_type": "stream",
          "text": [
            " Makespan \n",
            "Solução utópica:  [24 13  1 22  2 20 15 -1 17  9 12  8 10  5  4  7 -1 19  0 18  6 14 11  3\n",
            " 16 21 23]\n",
            "Makespan utópico:  328\n"
          ]
        }
      ],
      "source": [
        "# Encontra melhor solução makespan ,\n",
        "def optimizeMakespanExec():\n",
        "  bestf2, _, solutions_graph2  = rvns_approach(makespan,\n",
        "                                  x0,\n",
        "                                  probdata,\n",
        "                                  None,1,\n",
        "                                  maxeval=maxeval)\n",
        "  bestf2.solution=np.insert(bestf2.solution,0,bestf2.single_objective_value)\n",
        "  np.savez_compressed(files['makespanOptimization'], f2Solution=bestf2.solution)\n",
        "\n",
        "fileExists = os.path.exists(files['makespanOptimization'])\n",
        "if(not fileExists):\n",
        "  optimizeMakespanExec()\n",
        "\n",
        "f2Solution = np.load(files['makespanOptimization'])['f2Solution']\n",
        "bestf2 = Solution()\n",
        "bestf2.single_objective_value = f2Solution[0]\n",
        "bestf2.solution = f2Solution[1:]\n",
        "\n",
        "print(\" Makespan \")\n",
        "print(\"Solução utópica: \", bestf2.solution)                                \n",
        "print(\"Makespan utópico: \",bestf2.single_objective_value)"
      ]
    },
    {
      "cell_type": "markdown",
      "metadata": {
        "id": "t6AbkD7BeWhs"
      },
      "source": [
        "# Gráficos de convergência\n",
        "\n",
        "## Soma de Atrasos e Adiantamentos"
      ]
    },
    {
      "cell_type": "code",
      "execution_count": null,
      "metadata": {
        "colab": {
          "base_uri": "https://localhost:8080/"
        },
        "id": "Yfq5TkARHonf",
        "outputId": "eaf58890-7fa0-4e9e-ce74-fcb5a3787040"
      },
      "outputs": [
        {
          "data": {
            "image/png": "[encoded data removed]",
            "text/plain": [
              "<Figure size 432x288 with 1 Axes>"
            ]
          },
          "metadata": {
            "needs_background": "light"
          },
          "output_type": "display_data"
        }
      ],
      "source": [
        "plt.title(\"Curva de Convergência Algoritmo VNS\")\n",
        "plt.ylabel('Soma de atrasos e adiantamentos')\n",
        "plt.xlabel('Iterações')\n",
        "plt.semilogx(np.arange(1,len(solutions_graph1)+1), solutions_graph1)\n",
        "plt.grid()\n",
        "plt.show()"
      ]
    },
    {
      "cell_type": "markdown",
      "metadata": {
        "id": "ZcvzicskeiNL"
      },
      "source": [
        "## Makespan"
      ]
    },
    {
      "cell_type": "code",
      "execution_count": null,
      "metadata": {
        "colab": {
          "base_uri": "https://localhost:8080/"
        },
        "id": "qTEFxJ_QIl23",
        "outputId": "48428b2c-d27d-4bda-e3d7-eaf52b154767"
      },
      "outputs": [
        {
          "data": {
            "image/png": "[encoded data removed]",
            "text/plain": [
              "<Figure size 432x288 with 1 Axes>"
            ]
          },
          "metadata": {
            "needs_background": "light"
          },
          "output_type": "display_data"
        }
      ],
      "source": [
        "plt.title(\"Curva de Convergência Algoritmo VNS\")\n",
        "plt.ylabel('Makespan')\n",
        "plt.xlabel('Iterações')\n",
        "plt.semilogx(np.arange(1,len(solutions_graph2)+1), solutions_graph2)\n",
        "plt.grid()\n",
        "plt.show()"
      ]
    },
    {
      "cell_type": "markdown",
      "metadata": {
        "id": "Z-Von5nOepgT"
      },
      "source": [
        "## Ponto utópico e ponto anti-utópico"
      ]
    },
    {
      "cell_type": "code",
      "execution_count": null,
      "metadata": {
        "colab": {
          "base_uri": "https://localhost:8080/"
        },
        "id": "g3tnDQvRIPZq",
        "outputId": "2d68f773-f8df-4af9-8639-4330fb7be254"
      },
      "outputs": [
        {
          "data": {
            "image/png": "[encoded data removed]",
            "text/plain": [
              "<Figure size 432x288 with 1 Axes>"
            ]
          },
          "metadata": {
            "needs_background": "light"
          },
          "output_type": "display_data"
        }
      ],
      "source": [
        "bestf1.f1 = bestf1.single_objective_value # Soma de atrasos e adiantamentos da melhor solução deste objetivo\n",
        "y = makespan(bestf1, None, probdata)\n",
        "bestf1.f2 = y.single_objective_value # Makespan da melhor solução para o objetivo de soma de atrasos e adiantamentos\n",
        "\n",
        "bestf2.f2 = bestf2.single_objective_value # Makespan da melhor solução deste objetivo\n",
        "y = sum_earliness_tardiness(bestf2, None, probdata)\n",
        "bestf2.f1 = y.single_objective_value # Soma de atrasos e adiantamentos da melhor solução para o makespan\n",
        "\n",
        "ponto_utopico = np.array([bestf1.f1, bestf2.f2]) # O ponto utópico é o melhor valor dos dois objetivos encontrados\n",
        "ponto_antiutopico = np.array([bestf2.f1, bestf1.f2]) # O ponto anti-utópico é o valor da soma encontrada pela minimização do makespam e vice-versa\n",
        "\n",
        "# Plota soluções do problema mono-objetivo e soluções utópicas e anti-utópicas\n",
        "plt.plot([bestf1.f1, bestf2.f1], [bestf1.f2, bestf2.f2], '--*b', label='Soluções Mono-objetivo')\n",
        "plt.plot(ponto_utopico[0], ponto_utopico[1], '*r', label='Solução utópica')\n",
        "plt.plot(ponto_antiutopico[0], ponto_antiutopico[1], '*g', label='Solução anti-utópica')\n",
        "\n",
        "# Algumas linhas só pra ajudar na visualização\n",
        "plt.plot([ponto_utopico[0], bestf2.f1], [ponto_utopico[1], bestf2.f2], '--r')\n",
        "plt.plot([ponto_utopico[0], bestf1.f1], [ponto_utopico[1], bestf1.f2], '--r')\n",
        "plt.plot([ponto_antiutopico[0], bestf2.f1], [ponto_antiutopico[1], bestf2.f2], '--g')\n",
        "plt.plot([ponto_antiutopico[0], bestf1.f1], [ponto_antiutopico[1], bestf1.f2], '--g')\n",
        "\n",
        "plt.title('Espaço de Objetivos')\n",
        "plt.ylabel('Makespan')\n",
        "plt.xlabel('Soma Avanço Atraso')\n",
        "plt.legend()\n",
        "plt.grid()\n",
        "plt.show()\n",
        "\n",
        "\n"
      ]
    },
    {
      "cell_type": "markdown",
      "metadata": {
        "id": "gRhezl_Be6oN"
      },
      "source": [
        "# Função objetivo que implementa o método do $\\epsilon$-restrito"
      ]
    },
    {
      "cell_type": "code",
      "execution_count": null,
      "metadata": {
        "id": "ru94E0vWe9K8"
      },
      "outputs": [],
      "source": [
        "def epsilon_constraint(x,approachinfo,probdata):\n",
        "    \n",
        "    N = probdata.njobs # número de tarefas\n",
        "    M = probdata.nmachines # número de máquinas\n",
        "    y = np.copy(x.solution)\n",
        "    \n",
        "    indexes = np.where(y == -1)[0]\n",
        "    scheduling = [y[0:indexes[0]]]\n",
        "    for i in range(indexes.size-1):\n",
        "          scheduling.append(y[indexes[i]+1:indexes[i+1]])\n",
        "    scheduling.append(y[indexes[-1]+1:])\n",
        "    C = np.zeros(N)\n",
        "    for m in range(M):\n",
        "        time = 0.\n",
        "        last_job = -1\n",
        "        for n in range(scheduling[m].size):\n",
        "            time += probdata.processing[scheduling[m][n], m]\n",
        "            if last_job == -1:\n",
        "                last_job = scheduling[m][n]\n",
        "            else:\n",
        "                time += probdata.setup[last_job, scheduling[m][n], m]\n",
        "                last_job = scheduling[m][n]\n",
        "            C[scheduling[m][n]] = time\n",
        "                   \n",
        "    T = np.zeros(N)\n",
        "    E = np.zeros(N)\n",
        "    for n in range(N):\n",
        "        T[n] = max([C[n]-probdata.duedate[n], 0.])\n",
        "        E[n] = max([probdata.duedate[n]-C[n], 0.])\n",
        "    \n",
        "    # Implementação do método do epsilon-restrito:\n",
        "    #    Penaliza soluções cujo a makespan ultrapassa o valor\n",
        "    #    de epsilon.\n",
        "    makespan = np.amax(C)\n",
        "    if makespan > approachinfo.epsilon:\n",
        "        penalizacao = approachinfo.grau_penalizacao*(makespan - approachinfo.epsilon)**2\n",
        "    else:\n",
        "        penalizacao = 0.\n",
        "    \n",
        "    x.single_objective_value = np.sum(T) + np.sum(E) + penalizacao\n",
        "    x.sum = np.sum(T) + np.sum(E)\n",
        "    x.makespan = makespan\n",
        "    return x"
      ]
    },
    {
      "cell_type": "markdown",
      "metadata": {
        "id": "8_u9pv-ye_R3"
      },
      "source": [
        "\n",
        "# Função para Execução do Método do $\\epsilon$-restrito"
      ]
    },
    {
      "cell_type": "code",
      "execution_count": null,
      "metadata": {
        "id": "nB0p-NaMfA9L"
      },
      "outputs": [],
      "source": [
        "def epsilon_constraint_exec():\n",
        "  # Criando uma classe para abrigar a informação de epsilon e penalização\n",
        "  class ApproachInfo:\n",
        "    pass\n",
        "  \n",
        "  # Intervalo de valores de epsilon: do maior ao menor makespan\n",
        "  epsilon = np.linspace(bestf1.f2, bestf2.f2, 20)\n",
        "\n",
        "  approachinfo = ApproachInfo()\n",
        "  approachinfo.grau_penalizacao = 1e4 # penalização\n",
        "\n",
        "  # Lista que irá armazenar conjunto de soluções encontradas\n",
        "  solucoes_encontradas = [bestf1] \n",
        "\n",
        "  # Avaliação nos dois objetivos das soluções encontradas:\n",
        "  # Na primeira coluna, soma. Na segunda, makespan.\n",
        "  avaliacao_solucoes = np.zeros((epsilon.size, 2))\n",
        "\n",
        "  # A primeira solução é a melhor f1 encontrada que possui o f2 mais alto.\n",
        "  avaliacao_solucoes[0, 0] = bestf1.f1\n",
        "  avaliacao_solucoes[0, 1] = bestf1.f2\n",
        "  for n in range(1, epsilon.size-1):\n",
        "      \n",
        "      # Atualiza o epsilon\n",
        "      approachinfo.epsilon = epsilon[n]\n",
        "      \n",
        "      # Resolve o provlema\n",
        "      solucao, _, _ = rvns_approach(epsilon_constraint,\n",
        "                                    bestf1,\n",
        "                                    probdata,\n",
        "                                    approachinfo,\n",
        "                                    1,\n",
        "                                    maxeval=maxeval)\n",
        "      \n",
        "      # Salva informações\n",
        "      solucoes_encontradas.append(solucao)\n",
        "      avaliacao_solucoes[n, 0] = solucao.sum\n",
        "      avaliacao_solucoes[n, 1] = solucao.makespan\n",
        "      print(solucao.sum, solucao.makespan, approachinfo.epsilon)\n",
        "\n",
        "    # A última solução é aquela encontrada na otimização mono-objetivo do makespan\n",
        "  solucoes_encontradas.append(bestf2)\n",
        "  avaliacao_solucoes[-1, 0] = bestf2.f1\n",
        "  avaliacao_solucoes[-1, 1] = bestf2.f2\n",
        "  np.savez_compressed(files['multiObjective'],avaliacao_solucoes=avaliacao_solucoes)"
      ]
    },
    {
      "cell_type": "markdown",
      "metadata": {
        "id": "vEQ4voRMS-70"
      },
      "source": [
        "# Busca as soluções da otimização multi-objetivo"
      ]
    },
    {
      "cell_type": "code",
      "execution_count": null,
      "metadata": {
        "colab": {
          "base_uri": "https://localhost:8080/"
        },
        "id": "MDxiKl63THYB",
        "outputId": "bbccd279-f218-482a-8925-d04d6753bda5"
      },
      "outputs": [
        {
          "name": "stdout",
          "output_type": "stream",
          "text": [
            "[[ 926.  506.]\n",
            " [1108.  482.]\n",
            " [1108.  482.]\n",
            " [1308.  474.]\n",
            " [1374.  450.]\n",
            " [1127.  451.]\n",
            " [1383.  447.]\n",
            " [1819.  421.]\n",
            " [1639.  427.]\n",
            " [1593.  421.]\n",
            " [1618.  410.]\n",
            " [1509.  396.]\n",
            " [1914.  387.]\n",
            " [2435.  380.]\n",
            " [2238.  392.]\n",
            " [1910.  361.]\n",
            " [2633.  373.]\n",
            " [2155.  359.]\n",
            " [2852.  331.]\n",
            " [3563.  328.]]\n"
          ]
        }
      ],
      "source": [
        "fileExists = os.path.exists(files['multiObjective'])\n",
        "if(not fileExists):\n",
        "  epsilon_constraint_exec()\n",
        "\n",
        "avaliacao_solucoes = np.load(files['multiObjective'])['avaliacao_solucoes']\n",
        "print(avaliacao_solucoes)"
      ]
    },
    {
      "cell_type": "markdown",
      "metadata": {
        "id": "vS_32IsyfCxR"
      },
      "source": [
        "# Plota soluções encontradas no espaço de objetivos"
      ]
    },
    {
      "cell_type": "code",
      "execution_count": null,
      "metadata": {
        "colab": {
          "base_uri": "https://localhost:8080/",
          "height": 356
        },
        "id": "w-RRsL_ufEaV",
        "outputId": "b6cb5906-8529-4ed5-c72c-4ffa4aed060e"
      },
      "outputs": [
        {
          "ename": "TypeError",
          "evalue": "ignored",
          "output_type": "error",
          "traceback": [
            "\u001b[0;31m---------------------------------------------------------------------------\u001b[0m",
            "\u001b[0;31mTypeError\u001b[0m                                 Traceback (most recent call last)",
            "\u001b[0;32m<ipython-input-134-63067b341cf9>\u001b[0m in \u001b[0;36m<module>\u001b[0;34m\u001b[0m\n\u001b[0;32m----> 1\u001b[0;31m \u001b[0mplt\u001b[0m\u001b[0;34m.\u001b[0m\u001b[0mplot\u001b[0m\u001b[0;34m(\u001b[0m\u001b[0mavaliacao_solucoes\u001b[0m\u001b[0;34m[\u001b[0m\u001b[0;34m:\u001b[0m\u001b[0;34m,\u001b[0m \u001b[0;36m0\u001b[0m\u001b[0;34m]\u001b[0m\u001b[0;34m,\u001b[0m \u001b[0mavaliacao_solucoes\u001b[0m\u001b[0;34m[\u001b[0m\u001b[0;34m:\u001b[0m\u001b[0;34m,\u001b[0m \u001b[0;36m1\u001b[0m\u001b[0;34m]\u001b[0m\u001b[0;34m,\u001b[0m \u001b[0;34m'*'\u001b[0m\u001b[0;34m)\u001b[0m\u001b[0;34m\u001b[0m\u001b[0;34m\u001b[0m\u001b[0m\n\u001b[0m\u001b[1;32m      2\u001b[0m \u001b[0mplt\u001b[0m\u001b[0;34m.\u001b[0m\u001b[0mtitle\u001b[0m\u001b[0;34m(\u001b[0m\u001b[0;34m'Soluções Obtidas no Espaço de Objetivos'\u001b[0m\u001b[0;34m)\u001b[0m\u001b[0;34m\u001b[0m\u001b[0;34m\u001b[0m\u001b[0m\n\u001b[1;32m      3\u001b[0m \u001b[0mplt\u001b[0m\u001b[0;34m.\u001b[0m\u001b[0mylabel\u001b[0m\u001b[0;34m(\u001b[0m\u001b[0;34m'Makespan'\u001b[0m\u001b[0;34m)\u001b[0m\u001b[0;34m\u001b[0m\u001b[0;34m\u001b[0m\u001b[0m\n\u001b[1;32m      4\u001b[0m \u001b[0mplt\u001b[0m\u001b[0;34m.\u001b[0m\u001b[0mxlabel\u001b[0m\u001b[0;34m(\u001b[0m\u001b[0;34m'Soma Avanço Atraso'\u001b[0m\u001b[0;34m)\u001b[0m\u001b[0;34m\u001b[0m\u001b[0;34m\u001b[0m\u001b[0m\n\u001b[1;32m      5\u001b[0m \u001b[0mplt\u001b[0m\u001b[0;34m.\u001b[0m\u001b[0mgrid\u001b[0m\u001b[0;34m(\u001b[0m\u001b[0;34m)\u001b[0m\u001b[0;34m\u001b[0m\u001b[0;34m\u001b[0m\u001b[0m\n",
            "\u001b[0;32m/usr/local/lib/python3.8/dist-packages/numpy/lib/npyio.py\u001b[0m in \u001b[0;36m__getitem__\u001b[0;34m(self, key)\u001b[0m\n\u001b[1;32m    258\u001b[0m                 \u001b[0;32mreturn\u001b[0m \u001b[0mself\u001b[0m\u001b[0;34m.\u001b[0m\u001b[0mzip\u001b[0m\u001b[0;34m.\u001b[0m\u001b[0mread\u001b[0m\u001b[0;34m(\u001b[0m\u001b[0mkey\u001b[0m\u001b[0;34m)\u001b[0m\u001b[0;34m\u001b[0m\u001b[0;34m\u001b[0m\u001b[0m\n\u001b[1;32m    259\u001b[0m         \u001b[0;32melse\u001b[0m\u001b[0;34m:\u001b[0m\u001b[0;34m\u001b[0m\u001b[0;34m\u001b[0m\u001b[0m\n\u001b[0;32m--> 260\u001b[0;31m             \u001b[0;32mraise\u001b[0m \u001b[0mKeyError\u001b[0m\u001b[0;34m(\u001b[0m\u001b[0;34m\"%s is not a file in the archive\"\u001b[0m \u001b[0;34m%\u001b[0m \u001b[0mkey\u001b[0m\u001b[0;34m)\u001b[0m\u001b[0;34m\u001b[0m\u001b[0;34m\u001b[0m\u001b[0m\n\u001b[0m\u001b[1;32m    261\u001b[0m \u001b[0;34m\u001b[0m\u001b[0m\n\u001b[1;32m    262\u001b[0m \u001b[0;34m\u001b[0m\u001b[0m\n",
            "\u001b[0;31mTypeError\u001b[0m: not all arguments converted during string formatting"
          ]
        }
      ],
      "source": [
        "plt.plot(avaliacao_solucoes[:, 0], avaliacao_solucoes[:, 1], '*')\n",
        "plt.title('Soluções Obtidas no Espaço de Objetivos')\n",
        "plt.ylabel('Makespan')\n",
        "plt.xlabel('Soma Avanço Atraso')\n",
        "plt.grid()\n",
        "plt.show()"
      ]
    },
    {
      "cell_type": "markdown",
      "metadata": {
        "id": "DBhFz1U7fHKe"
      },
      "source": [
        "* Note que pode haver soluções que são dominadas. Isso é normal porque seu algoritmo é uma heurística, ou seja, ela não garante otimalidade global. Em outras palavras, isso significa o seguinte: quando você rodou o problema mono-objetivo, a solução que você obteve não é a melhor de todas as possíveis (ótima global). Logo, pode ser que, quando você está resolvendo o problema aplicando o método do $\\epsilon$-restrito, pode ser que você encontre uma outra solução que é melhor tanto em um objetivo como em outro.\n",
        "* Portanto, o próximo passo é obter a fronteira pareto dessas soluções que você encontrou:"
      ]
    },
    {
      "cell_type": "code",
      "execution_count": null,
      "metadata": {
        "id": "9kD-fUjjP4tA"
      },
      "outputs": [],
      "source": [
        "def pareto(sum, makespan):\n",
        "  \n",
        "  # Vetor que vai guardar os índices das soluções não dominadas\n",
        "  nao_dominadas = []\n",
        "  \n",
        "  # Número de soluções\n",
        "  N = len(sum)\n",
        "  \n",
        "  for i in range(N):\n",
        "    FLAG_DOMINADA = False\n",
        "    \n",
        "    # Eu vou comparar cada par de solução...\n",
        "    for j in range(N):\n",
        "      \n",
        "      # Exceto uma solução com ela mesma\n",
        "      if i == j:\n",
        "        continue\n",
        "      \n",
        "      # Se a solução i for dominada por alguma outra, eu ativo a flag de dominância e paro de fazer comparações com i\n",
        "      elif (sum[i] >= sum[j] and makespan[i] > makespan[j]) or (sum[i] > sum[j] and makespan[i] >= makespan[j]):\n",
        "        FLAG_DOMINADA = True\n",
        "        break\n",
        "    \n",
        "    # Se a solução i não for dominada por nenhuma outra, eu salvo o índice dela\n",
        "    if not FLAG_DOMINADA:\n",
        "      nao_dominadas.append(i)\n",
        "\n",
        "  return np.array(nao_dominadas)\n",
        "\n",
        "# Determina a fronteira Pareto\n",
        "nao_dominadas = pareto(avaliacao_solucoes[:, 0],\n",
        "                       avaliacao_solucoes[:, 1]) \n",
        "\n",
        "# Plota a Fronteira com as demais soluções\n",
        "plt.plot(avaliacao_solucoes[:, 0], avaliacao_solucoes[:, 1], '*')\n",
        "plt.plot(avaliacao_solucoes[nao_dominadas, 0], avaliacao_solucoes[nao_dominadas, 1], '*--r', label='Fronteira Pareto')\n",
        "plt.title('Soluções Obtidas no Espaço de Objetivos')\n",
        "plt.ylabel('Makespan')\n",
        "plt.xlabel('Soma Avanço Atraso')\n",
        "plt.legend()\n",
        "plt.grid()\n",
        "plt.show()"
      ]
    }
  ],
  "metadata": {
    "colab": {
      "provenance": []
    },
    "kernelspec": {
      "display_name": "Python 3",
      "name": "python3"
    },
    "language_info": {
      "name": "python"
    }
  },
  "nbformat": 4,
  "nbformat_minor": 0
}
